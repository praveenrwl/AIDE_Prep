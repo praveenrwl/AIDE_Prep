{
 "cells": [
  {
   "cell_type": "code",
   "execution_count": 3,
   "id": "61f7ccba-f395-41e4-bd80-97671d1caab5",
   "metadata": {},
   "outputs": [],
   "source": [
    "# Raw Data ──▶ ColumnTransformer ──▶ Model\n",
    "#            ↙           ↘\n",
    "#       numeric       categorical\n",
    "#      pipeline        pipeline\n",
    "# (impute→scale)   (impute→one‑hot)\n"
   ]
  },
  {
   "cell_type": "code",
   "execution_count": 4,
   "id": "209976a0-9f47-425f-8310-a46ae3a786e9",
   "metadata": {},
   "outputs": [],
   "source": [
    "import pandas as pd\n",
    "import numpy as np\n",
    "from sklearn.model_selection import train_test_split\n",
    "from sklearn.compose import ColumnTransformer\n",
    "from sklearn.pipeline import Pipeline\n",
    "from sklearn.impute import SimpleImputer\n",
    "from sklearn.preprocessing import StandardScaler, OneHotEncoder\n",
    "from sklearn.linear_model import LogisticRegression\n",
    "from sklearn.metrics import roc_auc_score"
   ]
  },
  {
   "cell_type": "code",
   "execution_count": 5,
   "id": "c42cd2e4-fce3-4481-ae55-5edd572c2c49",
   "metadata": {},
   "outputs": [],
   "source": [
    "df = pd.read_csv('titanic.csv')"
   ]
  },
  {
   "cell_type": "code",
   "execution_count": 6,
   "id": "82335082-5d45-4bac-a369-252b6e925d22",
   "metadata": {},
   "outputs": [
    {
     "data": {
      "text/html": [
       "<div>\n",
       "<style scoped>\n",
       "    .dataframe tbody tr th:only-of-type {\n",
       "        vertical-align: middle;\n",
       "    }\n",
       "\n",
       "    .dataframe tbody tr th {\n",
       "        vertical-align: top;\n",
       "    }\n",
       "\n",
       "    .dataframe thead th {\n",
       "        text-align: right;\n",
       "    }\n",
       "</style>\n",
       "<table border=\"1\" class=\"dataframe\">\n",
       "  <thead>\n",
       "    <tr style=\"text-align: right;\">\n",
       "      <th></th>\n",
       "      <th>PassengerId</th>\n",
       "      <th>Survived</th>\n",
       "      <th>Pclass</th>\n",
       "      <th>Name</th>\n",
       "      <th>Sex</th>\n",
       "      <th>Age</th>\n",
       "      <th>SibSp</th>\n",
       "      <th>Parch</th>\n",
       "      <th>Ticket</th>\n",
       "      <th>Fare</th>\n",
       "      <th>Cabin</th>\n",
       "      <th>Embarked</th>\n",
       "    </tr>\n",
       "  </thead>\n",
       "  <tbody>\n",
       "    <tr>\n",
       "      <th>0</th>\n",
       "      <td>1</td>\n",
       "      <td>0</td>\n",
       "      <td>3</td>\n",
       "      <td>Braund, Mr. Owen Harris</td>\n",
       "      <td>male</td>\n",
       "      <td>22.0</td>\n",
       "      <td>1</td>\n",
       "      <td>0</td>\n",
       "      <td>A/5 21171</td>\n",
       "      <td>7.2500</td>\n",
       "      <td>NaN</td>\n",
       "      <td>S</td>\n",
       "    </tr>\n",
       "    <tr>\n",
       "      <th>1</th>\n",
       "      <td>2</td>\n",
       "      <td>1</td>\n",
       "      <td>1</td>\n",
       "      <td>Cumings, Mrs. John Bradley (Florence Briggs Th...</td>\n",
       "      <td>female</td>\n",
       "      <td>38.0</td>\n",
       "      <td>1</td>\n",
       "      <td>0</td>\n",
       "      <td>PC 17599</td>\n",
       "      <td>71.2833</td>\n",
       "      <td>C85</td>\n",
       "      <td>C</td>\n",
       "    </tr>\n",
       "    <tr>\n",
       "      <th>2</th>\n",
       "      <td>3</td>\n",
       "      <td>1</td>\n",
       "      <td>3</td>\n",
       "      <td>Heikkinen, Miss. Laina</td>\n",
       "      <td>female</td>\n",
       "      <td>26.0</td>\n",
       "      <td>0</td>\n",
       "      <td>0</td>\n",
       "      <td>STON/O2. 3101282</td>\n",
       "      <td>7.9250</td>\n",
       "      <td>NaN</td>\n",
       "      <td>S</td>\n",
       "    </tr>\n",
       "    <tr>\n",
       "      <th>3</th>\n",
       "      <td>4</td>\n",
       "      <td>1</td>\n",
       "      <td>1</td>\n",
       "      <td>Futrelle, Mrs. Jacques Heath (Lily May Peel)</td>\n",
       "      <td>female</td>\n",
       "      <td>35.0</td>\n",
       "      <td>1</td>\n",
       "      <td>0</td>\n",
       "      <td>113803</td>\n",
       "      <td>53.1000</td>\n",
       "      <td>C123</td>\n",
       "      <td>S</td>\n",
       "    </tr>\n",
       "    <tr>\n",
       "      <th>4</th>\n",
       "      <td>5</td>\n",
       "      <td>0</td>\n",
       "      <td>3</td>\n",
       "      <td>Allen, Mr. William Henry</td>\n",
       "      <td>male</td>\n",
       "      <td>35.0</td>\n",
       "      <td>0</td>\n",
       "      <td>0</td>\n",
       "      <td>373450</td>\n",
       "      <td>8.0500</td>\n",
       "      <td>NaN</td>\n",
       "      <td>S</td>\n",
       "    </tr>\n",
       "  </tbody>\n",
       "</table>\n",
       "</div>"
      ],
      "text/plain": [
       "   PassengerId  Survived  Pclass  \\\n",
       "0            1         0       3   \n",
       "1            2         1       1   \n",
       "2            3         1       3   \n",
       "3            4         1       1   \n",
       "4            5         0       3   \n",
       "\n",
       "                                                Name     Sex   Age  SibSp  \\\n",
       "0                            Braund, Mr. Owen Harris    male  22.0      1   \n",
       "1  Cumings, Mrs. John Bradley (Florence Briggs Th...  female  38.0      1   \n",
       "2                             Heikkinen, Miss. Laina  female  26.0      0   \n",
       "3       Futrelle, Mrs. Jacques Heath (Lily May Peel)  female  35.0      1   \n",
       "4                           Allen, Mr. William Henry    male  35.0      0   \n",
       "\n",
       "   Parch            Ticket     Fare Cabin Embarked  \n",
       "0      0         A/5 21171   7.2500   NaN        S  \n",
       "1      0          PC 17599  71.2833   C85        C  \n",
       "2      0  STON/O2. 3101282   7.9250   NaN        S  \n",
       "3      0            113803  53.1000  C123        S  \n",
       "4      0            373450   8.0500   NaN        S  "
      ]
     },
     "execution_count": 6,
     "metadata": {},
     "output_type": "execute_result"
    }
   ],
   "source": [
    "df.head()"
   ]
  },
  {
   "cell_type": "code",
   "execution_count": 7,
   "id": "aed20fbf-1299-4306-b935-0ad94b3a8065",
   "metadata": {},
   "outputs": [],
   "source": [
    "X = df.drop('Survived', axis=1)\n",
    "y = df['Survived']"
   ]
  },
  {
   "cell_type": "code",
   "execution_count": 8,
   "id": "053c75d8-bad2-44cc-a73e-88122b3fc0e6",
   "metadata": {},
   "outputs": [],
   "source": [
    "X_train, X_test, y_train, y_test = train_test_split(X,y, random_state=42, test_size=0.2)"
   ]
  },
  {
   "cell_type": "code",
   "execution_count": 9,
   "id": "5ea2d34a-e028-47af-ad9a-2d59cffda7e5",
   "metadata": {},
   "outputs": [],
   "source": [
    "# Columns List\n",
    "numeric_cols = X.select_dtypes(include='number').columns.tolist()\n",
    "categorical_cols = X.select_dtypes(include=['object', 'category']).columns.tolist()"
   ]
  },
  {
   "cell_type": "code",
   "execution_count": 10,
   "id": "2e827e19-0f4f-4bdb-b03e-18893e3eef24",
   "metadata": {},
   "outputs": [],
   "source": [
    "# Piplines\n",
    "\n",
    "numeric_pipeline = Pipeline([\n",
    "    ('imputer', SimpleImputer(strategy='most_frequent')),\n",
    "    ('scaler', StandardScaler())\n",
    "])"
   ]
  },
  {
   "cell_type": "code",
   "execution_count": 11,
   "id": "625896c3-fea9-471f-8309-a96632161d24",
   "metadata": {},
   "outputs": [],
   "source": [
    "categorical_pipeline = Pipeline([\n",
    "    ('imputer', SimpleImputer(strategy='most_frequent')),\n",
    "    ('onehot', OneHotEncoder(handle_unknown='ignore'))\n",
    "])"
   ]
  },
  {
   "cell_type": "code",
   "execution_count": 12,
   "id": "460c6140-74dd-49ea-b533-d1ae308dec4c",
   "metadata": {},
   "outputs": [],
   "source": [
    "# ColumnTransformer\n",
    "preprocessor = ColumnTransformer([\n",
    "    ('num', numeric_pipeline, numeric_cols),\n",
    "    ('cat', categorical_pipeline, categorical_cols)\n",
    "])"
   ]
  },
  {
   "cell_type": "code",
   "execution_count": 13,
   "id": "6ed9b0c4-3241-49de-a5fc-1a00a02a1e21",
   "metadata": {},
   "outputs": [],
   "source": [
    "# Full pipeline: preprocess -> Logistic\n",
    "pipe = Pipeline([\n",
    "    ('preproc', preprocessor),\n",
    "    ('clf', LogisticRegression(max_iter=500))\n",
    "])"
   ]
  },
  {
   "cell_type": "code",
   "execution_count": 14,
   "id": "5e95b346-b710-4d3f-a762-610cbb68d973",
   "metadata": {},
   "outputs": [
    {
     "name": "stdout",
     "output_type": "stream",
     "text": [
      "ROC_AUC 0.8963\n"
     ]
    }
   ],
   "source": [
    "# Train Evaluate \n",
    "\n",
    "pipe.fit(X_train, y_train)\n",
    "y_proba = pipe.predict_proba(X_test)[:,1]\n",
    "print('ROC_AUC', round(roc_auc_score(y_test, y_proba), 4))"
   ]
  },
  {
   "cell_type": "markdown",
   "id": "18a448ed-fd38-4888-a804-5241e740de0c",
   "metadata": {},
   "source": [
    "# DAY 3"
   ]
  },
  {
   "cell_type": "code",
   "execution_count": null,
   "id": "d1df6644-b88d-4a96-b9f0-43d76e160793",
   "metadata": {},
   "outputs": [],
   "source": [
    "# Hyperparameter Tuning with GridSearchCV"
   ]
  },
  {
   "cell_type": "code",
   "execution_count": 15,
   "id": "80c7a099-75b6-40bf-8ca3-bdf37deba6bc",
   "metadata": {},
   "outputs": [],
   "source": [
    "from sklearn.model_selection import GridSearchCV\n",
    "from sklearn.ensemble import RandomForestClassifier\n",
    "from sklearn.pipeline import Pipeline"
   ]
  },
  {
   "cell_type": "code",
   "execution_count": 17,
   "id": "bed57cd0-faa5-475a-a5a8-c1f6064df0a8",
   "metadata": {},
   "outputs": [],
   "source": [
    "pipe = Pipeline([\n",
    "    ('preproc', preprocessor),\n",
    "    ('clf', RandomForestClassifier(random_state=42))\n",
    "])"
   ]
  },
  {
   "cell_type": "code",
   "execution_count": 18,
   "id": "58007687-f054-46e7-acad-809d8450fdca",
   "metadata": {},
   "outputs": [],
   "source": [
    "param_grid = {\n",
    "    'clf__n_estimators': [100,200],\n",
    "    'clf__max_depth': [None, 10, 20],\n",
    "    'clf__min_samples_split': [2, 5]\n",
    "}"
   ]
  },
  {
   "cell_type": "code",
   "execution_count": 19,
   "id": "668d9047-4109-4fca-b932-16d99f5ec0cd",
   "metadata": {},
   "outputs": [],
   "source": [
    "grid = GridSearchCV(\n",
    "    pipe,\n",
    "    param_grid,\n",
    "    cv=5,   #for 5‑fold cross‑validation\n",
    "    scoring='roc_auc',   # focuses on ranking performance\n",
    "    n_jobs=-1,\n",
    "    verbose=2\n",
    ")"
   ]
  },
  {
   "cell_type": "code",
   "execution_count": 20,
   "id": "b1bb2bfd-22aa-4bf2-afff-a1d23e19d0a0",
   "metadata": {},
   "outputs": [
    {
     "name": "stdout",
     "output_type": "stream",
     "text": [
      "Fitting 5 folds for each of 12 candidates, totalling 60 fits\n",
      "Best params:  {'clf__max_depth': None, 'clf__min_samples_split': 2, 'clf__n_estimators': 200}\n",
      "CV ROC-AUC:  0.8633013050439381\n"
     ]
    }
   ],
   "source": [
    "grid.fit(X_train, y_train)\n",
    "print('Best params: ', grid.best_params_)\n",
    "print('CV ROC-AUC: ', grid.best_score_)"
   ]
  },
  {
   "cell_type": "code",
   "execution_count": 21,
   "id": "84867016-76d9-48b5-a959-34088cb972a9",
   "metadata": {},
   "outputs": [],
   "source": [
    "# Model Comparison: Logistic Regression vs Random Forest"
   ]
  },
  {
   "cell_type": "code",
   "execution_count": 29,
   "id": "0372fd2b-d420-4167-b22b-63eb80a0566c",
   "metadata": {},
   "outputs": [],
   "source": [
    "from sklearn.linear_model import LogisticRegression\n",
    "from sklearn.pipeline import Pipeline\n",
    "from sklearn.model_selection import GridSearchCV\n",
    "\n",
    "# Assuming preprocessor is already defined\n",
    "pipe_lr = Pipeline([\n",
    "    (\"preproc\", preprocessor),\n",
    "    (\"clf\", LogisticRegression(max_iter=1000))  # 👈 LogisticRegression used here\n",
    "])\n"
   ]
  },
  {
   "cell_type": "code",
   "execution_count": 30,
   "id": "e10f4fb2-ca0b-4909-b4cb-f4e9aa13cd04",
   "metadata": {},
   "outputs": [],
   "source": [
    "param_grid_lr = {\n",
    "    \"clf__C\": [0.01, 0.1, 1, 10],        # Regularization strength\n",
    "    \"clf__penalty\": [\"l2\"],              # Regularization type\n",
    "    \"clf__solver\": [\"lbfgs\"]             # Solver for optimization\n",
    "}\n"
   ]
  },
  {
   "cell_type": "code",
   "execution_count": 32,
   "id": "b398d1cf-24ed-465d-bd22-3c52971c253e",
   "metadata": {},
   "outputs": [
    {
     "name": "stdout",
     "output_type": "stream",
     "text": [
      "✅ Best Logistic Regression Params: {'clf__C': 10, 'clf__penalty': 'l2', 'clf__solver': 'lbfgs'}\n"
     ]
    }
   ],
   "source": [
    "grid_lr = GridSearchCV(\n",
    "    pipe_lr,\n",
    "    param_grid_lr,\n",
    "    cv=5,\n",
    "    scoring=\"roc_auc\",  # or accuracy/f1 depending on goal\n",
    "    n_jobs=-1\n",
    ")\n",
    "\n",
    "grid_lr.fit(X_train, y_train)\n",
    "\n",
    "print(\"✅ Best Logistic Regression Params:\", grid_lr.best_params_)\n"
   ]
  },
  {
   "cell_type": "code",
   "execution_count": 40,
   "id": "7f11557a-e5f5-482f-a9f0-eaea8db2fecf",
   "metadata": {},
   "outputs": [],
   "source": [
    "from sklearn.metrics import roc_auc_score, f1_score, roc_curve"
   ]
  },
  {
   "cell_type": "code",
   "execution_count": 41,
   "id": "ab9884a0-df52-414a-a818-099824987f5a",
   "metadata": {},
   "outputs": [
    {
     "name": "stdout",
     "output_type": "stream",
     "text": [
      "RF - ROC-AUC: 0.8990, F1: 0.7714\n",
      "LR - ROC-AUC: 0.9044, F1: 0.7887\n"
     ]
    }
   ],
   "source": [
    "for name, model in [('RF', grid.best_estimator_), ('LR', grid_lr.best_estimator_)]:\n",
    "    y_pred = model.predict(X_test)\n",
    "    y_proba = model.predict_proba(X_test)[:,1]\n",
    "    print(f'{name} - ROC-AUC: {roc_auc_score(y_test, y_proba):.4f}, F1: {f1_score(y_test, y_pred):.4f}')"
   ]
  },
  {
   "cell_type": "code",
   "execution_count": 42,
   "id": "85c89bfb-1aaf-480f-af70-90b805549c2e",
   "metadata": {},
   "outputs": [],
   "source": [
    "import matplotlib.pyplot as plt"
   ]
  },
  {
   "cell_type": "code",
   "execution_count": 43,
   "id": "125b964a-8992-4a07-a0ad-9ef2b35562e5",
   "metadata": {},
   "outputs": [],
   "source": [
    "rf_best = grid.best_estimator_\n",
    "lr_best = grid_lr.best_estimator_"
   ]
  },
  {
   "cell_type": "code",
   "execution_count": 44,
   "id": "be802f16-8664-4fd5-8f7a-035dd8033cce",
   "metadata": {},
   "outputs": [],
   "source": [
    "rf_probs = rf_best.predict_proba(X_test)[:,1]\n",
    "lr_probs = lr_best.predict_proba(X_test)[:,1]"
   ]
  },
  {
   "cell_type": "code",
   "execution_count": 45,
   "id": "f101faed-76ee-4a91-9e5a-b740fe50093c",
   "metadata": {},
   "outputs": [],
   "source": [
    "rf_fpr, rf_tpr, _ = roc_curve(y_test, rf_probs)\n",
    "lr_fpr, lr_tpr, _ = roc_curve(y_test, lr_probs)"
   ]
  },
  {
   "cell_type": "code",
   "execution_count": 46,
   "id": "0355313d-e049-4183-83fb-3c4143793d08",
   "metadata": {},
   "outputs": [],
   "source": [
    "rf_auc = roc_auc_score(y_test, rf_probs)\n",
    "lr_auc = roc_auc_score(y_test, lr_probs)"
   ]
  },
  {
   "cell_type": "code",
   "execution_count": 48,
   "id": "7b0eb26d-668f-4cd0-8f3c-f8593b8f4f74",
   "metadata": {},
   "outputs": [
    {
     "data": {
      "image/png": "[encoded data removed]",
      "text/plain": [
       "<Figure size 800x600 with 1 Axes>"
      ]
     },
     "metadata": {},
     "output_type": "display_data"
    }
   ],
   "source": [
    "plt.figure(figsize=(8, 6))\n",
    "plt.plot(rf_fpr, rf_tpr, label=f'Random Forest (AUC = {rf_auc:.2f})', color='green')\n",
    "plt.plot(lr_fpr, lr_tpr, label=f'Logistic Regression (AUC = {lr_auc:.2f})', color='blue')\n",
    "plt.plot([0, 1], [0, 1], linestyle='--', color='gray')\n",
    "\n",
    "plt.title('ROC Curve Comparison')\n",
    "plt.xlabel('False Positive Rate')\n",
    "plt.ylabel('True Positive Rate')\n",
    "plt.legend(loc='lower right')\n",
    "plt.grid(True)\n",
    "plt.show()\n"
   ]
  },
  {
   "cell_type": "code",
   "execution_count": 47,
   "id": "1f4bcb5a-a465-4212-8d35-773bf193c0f2",
   "metadata": {},
   "outputs": [],
   "source": [
    "# Bias–Variance Analysis & Advanced Metrics"
   ]
  },
  {
   "cell_type": "markdown",
   "id": "e90574e1-2554-4448-aff2-e04b08751680",
   "metadata": {},
   "source": [
    "\n",
    "## 🎯 Goal of Bias–Variance Analysis\n",
    "\n",
    "To **understand prediction errors** and choose the **right model complexity**.\n",
    "\n",
    "When your model performs poorly, it’s usually due to:\n",
    "\n",
    "* **High Bias** (underfitting)\n",
    "* **High Variance** (overfitting)\n",
    "  Your job is to balance the two.\n",
    "\n",
    "---\n",
    "\n",
    "## 🔍 Key Concepts\n",
    "\n",
    "### 🔵 **Bias**\n",
    "\n",
    "Bias is **error due to overly simplistic assumptions** in the learning algorithm.\n",
    "\n",
    "* ❌ Model is too simple to capture the underlying data pattern\n",
    "* ✅ Predicts consistently but inaccurately\n",
    "\n",
    "**Example:** Linear Regression on highly non-linear data\n",
    "\n",
    "---\n",
    "\n",
    "### 🔴 **Variance**\n",
    "\n",
    "Variance is **error due to sensitivity to small fluctuations** in the training data.\n",
    "\n",
    "* ❌ Model fits training data too closely (overfitting)\n",
    "* ✅ Predicts training data well but fails on new/unseen data\n",
    "\n",
    "**Example:** Deep Decision Tree on small dataset\n",
    "\n",
    "---\n",
    "\n",
    "### ⚖️ The Trade-off\n",
    "\n",
    "| Model Type  | Bias    | Variance | Result              |\n",
    "| ----------- | ------- | -------- | ------------------- |\n",
    "| Too Simple  | 🔼 High | 🔽 Low   | Underfitting        |\n",
    "| Just Right  | ✅ Low   | ✅ Low    | Good generalization |\n",
    "| Too Complex | 🔽 Low  | 🔼 High  | Overfitting         |\n",
    "\n",
    "---\n",
    "\n",
    "## 🧠 How to Spot Bias & Variance in Practice\n",
    "\n",
    "### 1. **Train vs Test Accuracy**\n",
    "\n",
    "| Scenario             | Train Acc | Test Acc | Likely Problem |\n",
    "| -------------------- | --------- | -------- | -------------- |\n",
    "| Both Low             | ❌ Low     | ❌ Low    | High Bias      |\n",
    "| High Train, Low Test | ✅ High    | ❌ Low    | High Variance  |\n",
    "| Both High            | ✅ High    | ✅ High   | Great!         |\n",
    "\n",
    "---\n",
    "\n",
    "## 🧪 Example (RandomForest vs LogisticRegression)\n",
    "\n",
    "| Model               | Train Acc | Test Acc | Observation        |\n",
    "| ------------------- | --------- | -------- | ------------------ |\n",
    "| Logistic Regression | 82%       | 80%      | Balanced           |\n",
    "| Random Forest       | 99%       | 83%      | Likely overfitting |\n",
    "\n",
    "> So Random Forest has **low bias but higher variance** compared to Logistic.\n",
    "\n",
    "---\n",
    "\n",
    "## 🛠️ How to Fix Each\n",
    "\n",
    "### 🔧 Reduce Bias (Underfitting)\n",
    "\n",
    "* Use a more complex model (e.g. Random Forest, XGBoost)\n",
    "* Add new features\n",
    "* Reduce regularization (e.g. smaller `C` in LogisticRegression)\n",
    "\n",
    "### 🔧 Reduce Variance (Overfitting)\n",
    "\n",
    "* Use a simpler model\n",
    "* Add more data\n",
    "* Regularization (L1/L2)\n",
    "* Prune trees, limit depth\n",
    "* Cross-validation\n",
    "\n",
    "---\n",
    "\n",
    "## ✅ Takeaway\n",
    "\n",
    "Bias–Variance tradeoff helps you:\n",
    "\n",
    "* Understand **why your model is failing**\n",
    "* Decide **what to tune** (model complexity, regularization, etc.)\n",
    "* Choose between simpler vs. complex models for real-world deployment\n",
    "\n",
    "---\n"
   ]
  },
  {
   "cell_type": "code",
   "execution_count": 49,
   "id": "30bbd984-a37c-416b-9861-395d4e9d9c21",
   "metadata": {},
   "outputs": [
    {
     "name": "stdout",
     "output_type": "stream",
     "text": [
      "Logistic Regression\n",
      "Train accuracy: 1.0\n",
      "Test accuracy: 0.8324022346368715\n",
      "\n",
      "Random Forest\n",
      "Train accuracy: 1.0\n",
      "Test accuracy: 0.8212290502793296\n"
     ]
    }
   ],
   "source": [
    "print(\"Logistic Regression\")\n",
    "print(\"Train accuracy:\", lr_best.score(X_train, y_train))\n",
    "print(\"Test accuracy:\", lr_best.score(X_test, y_test))\n",
    "\n",
    "print(\"\\nRandom Forest\")\n",
    "print(\"Train accuracy:\", rf_best.score(X_train, y_train))\n",
    "print(\"Test accuracy:\", rf_best.score(X_test, y_test))\n"
   ]
  },
  {
   "cell_type": "code",
   "execution_count": null,
   "id": "e4e95730-b376-4c5f-96d2-d745bc0481c9",
   "metadata": {},
   "outputs": [],
   "source": []
  }
 ],
 "metadata": {
  "kernelspec": {
   "display_name": "Python 3 (ipykernel)",
   "language": "python",
   "name": "python3"
  },
  "language_info": {
   "codemirror_mode": {
    "name": "ipython",
    "version": 3
   },
   "file_extension": ".py",
   "mimetype": "text/x-python",
   "name": "python",
   "nbconvert_exporter": "python",
   "pygments_lexer": "ipython3",
   "version": "3.12.7"
  }
 },
 "nbformat": 4,
 "nbformat_minor": 5
}
